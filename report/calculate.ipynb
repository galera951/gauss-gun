{
 "cells": [
  {
   "cell_type": "code",
   "execution_count": 1,
   "id": "0fd73f98-a111-4a85-bf82-bf2a6223bbe3",
   "metadata": {},
   "outputs": [],
   "source": [
    "import sympy as smp"
   ]
  },
  {
   "cell_type": "code",
   "execution_count": 37,
   "id": "a920200e-633c-47e2-ab24-a6070b50ddd9",
   "metadata": {},
   "outputs": [],
   "source": [
    "L, R, z, alpha = smp.symbols(r'L R z \\alpha')\n",
    "x, l = smp.symbols(r'x l')"
   ]
  },
  {
   "cell_type": "code",
   "execution_count": 22,
   "id": "94050fb1-a242-4b76-8ded-bb6836a47389",
   "metadata": {},
   "outputs": [],
   "source": [
    "beta = smp.Function(r'\\beta')\n",
    "beta = beta(z)"
   ]
  },
  {
   "cell_type": "code",
   "execution_count": 32,
   "id": "1a4c87eb-7cf4-4d26-8d0d-c5a4c164deab",
   "metadata": {},
   "outputs": [],
   "source": [
    "beta = ((L/2 - z) / smp.sqrt((L-z)**2 + R**2) + (L/2 + z) / smp.sqrt((L/2+z)**2 + R**2))**2"
   ]
  },
  {
   "cell_type": "code",
   "execution_count": 33,
   "id": "076b1880-733b-428e-9307-76a66d679bd4",
   "metadata": {},
   "outputs": [
    {
     "data": {
      "text/latex": [
       "$\\displaystyle \\left(\\frac{\\frac{L}{2} - z}{\\sqrt{R^{2} + \\left(L - z\\right)^{2}}} + \\frac{\\frac{L}{2} + z}{\\sqrt{R^{2} + \\left(\\frac{L}{2} + z\\right)^{2}}}\\right)^{2}$"
      ],
      "text/plain": [
       "((L/2 - z)/sqrt(R**2 + (L - z)**2) + (L/2 + z)/sqrt(R**2 + (L/2 + z)**2))**2"
      ]
     },
     "execution_count": 33,
     "metadata": {},
     "output_type": "execute_result"
    }
   ],
   "source": [
    "beta"
   ]
  },
  {
   "cell_type": "code",
   "execution_count": 34,
   "id": "3593a068-62e7-4adf-847f-c5f6dc0de595",
   "metadata": {},
   "outputs": [],
   "source": [
    "f_av = smp.Function(f'<f>')(z)"
   ]
  },
  {
   "cell_type": "code",
   "execution_count": 35,
   "id": "1b1292a2-89a3-4b0f-bb13-243e3b3de9de",
   "metadata": {},
   "outputs": [],
   "source": [
    "f_av = smp.integrate(beta, (z, x, x+l))"
   ]
  },
  {
   "cell_type": "code",
   "execution_count": 38,
   "id": "0cc2d17e-2f02-4b6d-a967-b389a6d83a50",
   "metadata": {},
   "outputs": [],
   "source": [
    "f_av = alpha / l * f_av"
   ]
  },
  {
   "cell_type": "code",
   "execution_count": 39,
   "id": "35599700-1b57-4905-bd66-77ec4e257427",
   "metadata": {},
   "outputs": [
    {
     "data": {
      "text/latex": [
       "$\\displaystyle \\frac{\\alpha \\left(\\int\\limits_{x}^{l + x} \\frac{5 L^{4}}{L^{4} + 2 L^{3} z + 5 L^{2} R^{2} - 3 L^{2} z^{2} - 4 L R^{2} z - 4 L z^{3} + 4 R^{4} + 8 R^{2} z^{2} + 4 z^{4}}\\, dz + \\int\\limits_{x}^{l + x} \\frac{32 z^{4}}{L^{4} + 2 L^{3} z + 5 L^{2} R^{2} - 3 L^{2} z^{2} - 4 L R^{2} z - 4 L z^{3} + 4 R^{4} + 8 R^{2} z^{2} + 4 z^{4}}\\, dz + \\int\\limits_{x}^{l + x} \\left(- \\frac{16 L z^{3}}{L^{4} + 2 L^{3} z + 5 L^{2} R^{2} - 3 L^{2} z^{2} - 4 L R^{2} z - 4 L z^{3} + 4 R^{4} + 8 R^{2} z^{2} + 4 z^{4}}\\right)\\, dz + \\int\\limits_{x}^{l + x} \\frac{8 L^{2} R^{2}}{L^{4} + 2 L^{3} z + 5 L^{2} R^{2} - 3 L^{2} z^{2} - 4 L R^{2} z - 4 L z^{3} + 4 R^{4} + 8 R^{2} z^{2} + 4 z^{4}}\\, dz + \\int\\limits_{x}^{l + x} \\left(- \\frac{20 L^{2} z^{2}}{L^{4} + 2 L^{3} z + 5 L^{2} R^{2} - 3 L^{2} z^{2} - 4 L R^{2} z - 4 L z^{3} + 4 R^{4} + 8 R^{2} z^{2} + 4 z^{4}}\\right)\\, dz + \\int\\limits_{x}^{l + x} \\frac{8 L^{3} z}{L^{4} + 2 L^{3} z + 5 L^{2} R^{2} - 3 L^{2} z^{2} - 4 L R^{2} z - 4 L z^{3} + 4 R^{4} + 8 R^{2} z^{2} + 4 z^{4}}\\, dz + \\int\\limits_{x}^{l + x} \\frac{32 R^{2} z^{2}}{L^{4} + 2 L^{3} z + 5 L^{2} R^{2} - 3 L^{2} z^{2} - 4 L R^{2} z - 4 L z^{3} + 4 R^{4} + 8 R^{2} z^{2} + 4 z^{4}}\\, dz + \\int\\limits_{x}^{l + x} \\frac{4 L^{2} \\sqrt{L^{2} - 2 L z + R^{2} + z^{2}} \\sqrt{L^{2} + 4 L z + 4 R^{2} + 4 z^{2}}}{L^{4} + 2 L^{3} z + 5 L^{2} R^{2} - 3 L^{2} z^{2} - 4 L R^{2} z - 4 L z^{3} + 4 R^{4} + 8 R^{2} z^{2} + 4 z^{4}}\\, dz + \\int\\limits_{x}^{l + x} \\left(- \\frac{16 z^{2} \\sqrt{L^{2} - 2 L z + R^{2} + z^{2}} \\sqrt{L^{2} + 4 L z + 4 R^{2} + 4 z^{2}}}{L^{4} + 2 L^{3} z + 5 L^{2} R^{2} - 3 L^{2} z^{2} - 4 L R^{2} z - 4 L z^{3} + 4 R^{4} + 8 R^{2} z^{2} + 4 z^{4}}\\right)\\, dz\\right)}{4 l}$"
      ],
      "text/plain": [
       "\\alpha*(Integral(5*L**4/(L**4 + 2*L**3*z + 5*L**2*R**2 - 3*L**2*z**2 - 4*L*R**2*z - 4*L*z**3 + 4*R**4 + 8*R**2*z**2 + 4*z**4), (z, x, l + x)) + Integral(32*z**4/(L**4 + 2*L**3*z + 5*L**2*R**2 - 3*L**2*z**2 - 4*L*R**2*z - 4*L*z**3 + 4*R**4 + 8*R**2*z**2 + 4*z**4), (z, x, l + x)) + Integral(-16*L*z**3/(L**4 + 2*L**3*z + 5*L**2*R**2 - 3*L**2*z**2 - 4*L*R**2*z - 4*L*z**3 + 4*R**4 + 8*R**2*z**2 + 4*z**4), (z, x, l + x)) + Integral(8*L**2*R**2/(L**4 + 2*L**3*z + 5*L**2*R**2 - 3*L**2*z**2 - 4*L*R**2*z - 4*L*z**3 + 4*R**4 + 8*R**2*z**2 + 4*z**4), (z, x, l + x)) + Integral(-20*L**2*z**2/(L**4 + 2*L**3*z + 5*L**2*R**2 - 3*L**2*z**2 - 4*L*R**2*z - 4*L*z**3 + 4*R**4 + 8*R**2*z**2 + 4*z**4), (z, x, l + x)) + Integral(8*L**3*z/(L**4 + 2*L**3*z + 5*L**2*R**2 - 3*L**2*z**2 - 4*L*R**2*z - 4*L*z**3 + 4*R**4 + 8*R**2*z**2 + 4*z**4), (z, x, l + x)) + Integral(32*R**2*z**2/(L**4 + 2*L**3*z + 5*L**2*R**2 - 3*L**2*z**2 - 4*L*R**2*z - 4*L*z**3 + 4*R**4 + 8*R**2*z**2 + 4*z**4), (z, x, l + x)) + Integral(4*L**2*sqrt(L**2 - 2*L*z + R**2 + z**2)*sqrt(L**2 + 4*L*z + 4*R**2 + 4*z**2)/(L**4 + 2*L**3*z + 5*L**2*R**2 - 3*L**2*z**2 - 4*L*R**2*z - 4*L*z**3 + 4*R**4 + 8*R**2*z**2 + 4*z**4), (z, x, l + x)) + Integral(-16*z**2*sqrt(L**2 - 2*L*z + R**2 + z**2)*sqrt(L**2 + 4*L*z + 4*R**2 + 4*z**2)/(L**4 + 2*L**3*z + 5*L**2*R**2 - 3*L**2*z**2 - 4*L*R**2*z - 4*L*z**3 + 4*R**4 + 8*R**2*z**2 + 4*z**4), (z, x, l + x)))/(4*l)"
      ]
     },
     "execution_count": 39,
     "metadata": {},
     "output_type": "execute_result"
    }
   ],
   "source": [
    "f_av"
   ]
  },
  {
   "cell_type": "code",
   "execution_count": null,
   "id": "1ac9a81f-51b5-4208-8151-fdda27a87776",
   "metadata": {},
   "outputs": [],
   "source": []
  }
 ],
 "metadata": {
  "kernelspec": {
   "display_name": "Python 3 (ipykernel)",
   "language": "python",
   "name": "python3"
  },
  "language_info": {
   "codemirror_mode": {
    "name": "ipython",
    "version": 3
   },
   "file_extension": ".py",
   "mimetype": "text/x-python",
   "name": "python",
   "nbconvert_exporter": "python",
   "pygments_lexer": "ipython3",
   "version": "3.10.6"
  }
 },
 "nbformat": 4,
 "nbformat_minor": 5
}
